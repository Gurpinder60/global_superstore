{
  "nbformat": 4,
  "nbformat_minor": 0,
  "metadata": {
    "colab": {
      "provenance": [],
      "mount_file_id": "1PO9rM6PCQhglYvQ_0GU_GU0Us2X7JglV",
      "authorship_tag": "ABX9TyOj7yDj1U98jkdvKoS4xRrW",
      "include_colab_link": true
    },
    "kernelspec": {
      "name": "python3",
      "display_name": "Python 3"
    },
    "language_info": {
      "name": "python"
    }
  },
  "cells": [
    {
      "cell_type": "markdown",
      "metadata": {
        "id": "view-in-github",
        "colab_type": "text"
      },
      "source": [
        "<a href=\"https://colab.research.google.com/github/Gurpinder60/global_superstore/blob/main/Global_SuperStore.ipynb\" target=\"_parent\"><img src=\"https://colab.research.google.com/assets/colab-badge.svg\" alt=\"Open In Colab\"/></a>"
      ]
    },
    {
      "cell_type": "code",
      "execution_count": null,
      "metadata": {
        "colab": {
          "base_uri": "https://localhost:8080/"
        },
        "id": "SZXM9H56LYt0",
        "outputId": "2557efe8-943e-423e-d219-a2b85a4f19d1"
      },
      "outputs": [
        {
          "output_type": "stream",
          "name": "stdout",
          "text": [
            "\n",
            "Tables in the database:\n",
            "      name\n",
            "0   Orders\n",
            "1   People\n",
            "2  Returns\n"
          ]
        }
      ],
      "source": [
        "import sqlite3\n",
        "import pandas as pd\n",
        "# Specify the path to the folder containing the CSV files\n",
        "folder_path = '/content/drive/MyDrive/Forecast/'\n",
        "\n",
        "# Load the CSV files into DataFrames\n",
        "orders_df = pd.read_csv(folder_path + 'Orders.csv')\n",
        "people_df = pd.read_csv(folder_path + 'People.csv')\n",
        "returns_df = pd.read_csv(folder_path + 'Returns.csv')\n",
        "\n",
        "# Connect to SQLite\n",
        "conn = sqlite3.connect('/content/drive/MyDrive/Forecast/my_database.db')\n",
        "\n",
        "# Load each DataFrame into the SQLite database\n",
        "orders_df.to_sql('Orders', conn, if_exists='replace', index=False)\n",
        "people_df.to_sql('People', conn, if_exists='replace', index=False)\n",
        "returns_df.to_sql('Returns', conn, if_exists='replace', index=False)\n",
        "\n",
        "# Confirm the tables are created\n",
        "tables_df = pd.read_sql_query(\"SELECT name FROM sqlite_master WHERE type='table';\", conn)\n",
        "print(\"\\nTables in the database:\")\n",
        "print(tables_df)"
      ]
    },
    {
      "cell_type": "code",
      "source": [
        "query = '''\n",
        "SELECT\n",
        "    o.*,\n",
        "    r.Returned,\n",
        "    r.Region\n",
        "FROM\n",
        "    Orders o\n",
        "Left JOIN\n",
        "    Returns r ON o.\"Order ID\" = r.\"Order ID\"\n",
        "'''\n",
        "\n",
        "# Execute the query and load the result into a DataFrame\n",
        "result_df = pd.read_sql_query(query, conn)\n",
        "\n",
        "print(\"\\nJoined DataFrame with All Columns:\")\n",
        "print(result_df)"
      ],
      "metadata": {
        "colab": {
          "base_uri": "https://localhost:8080/"
        },
        "id": "Vo_8JHw6TeSU",
        "outputId": "5e3481de-77a6-46fe-cfe0-0b2fc6324615"
      },
      "execution_count": null,
      "outputs": [
        {
          "output_type": "stream",
          "name": "stdout",
          "text": [
            "\n",
            "Joined DataFrame with All Columns:\n",
            "       Row ID                  Order ID Order Date Ship Date       Ship Mode  \\\n",
            "0       40098  CA-2014-AB10015140-41954   11/11/14  11/13/14     First Class   \n",
            "1       26341    IN-2014-JR162107-41675     2/5/14    2/7/14    Second Class   \n",
            "2       25330    IN-2014-CR127307-41929   10/17/14  10/18/14     First Class   \n",
            "3       13524   ES-2014-KM1637548-41667    1/28/14   1/30/14     First Class   \n",
            "4       47221   SG-2014-RH9495111-41948    11/5/14   11/6/14        Same Day   \n",
            "...       ...                       ...        ...       ...             ...   \n",
            "51285   29002   IN-2015-KE1642066-42174    6/19/15   6/19/15        Same Day   \n",
            "51286   34337  US-2014-ZD21925140-41765     5/6/14   5/10/14  Standard Class   \n",
            "51287   31315  CA-2012-ZD21925140-41147    8/26/12   8/31/12    Second Class   \n",
            "51288    9596   MX-2013-RB1979518-41322    2/17/13   2/21/13  Standard Class   \n",
            "51289    6147   MX-2013-MC1810093-41416    5/22/13   5/26/13    Second Class   \n",
            "\n",
            "        Customer ID       Customer Name      Segment  Postal Code  \\\n",
            "0      AB-100151402       Aaron Bergman     Consumer      73120.0   \n",
            "1         JR-162107       Justin Ritter    Corporate          NaN   \n",
            "2         CR-127307        Craig Reiter     Consumer          NaN   \n",
            "3        KM-1637548    Katherine Murray  Home Office          NaN   \n",
            "4        RH-9495111         Rick Hansen     Consumer          NaN   \n",
            "...             ...                 ...          ...          ...   \n",
            "51285    KE-1642066     Katrina Edelman    Corporate          NaN   \n",
            "51286  ZD-219251408  Zuschuss Donatelli     Consumer      37421.0   \n",
            "51287  ZD-219251404  Zuschuss Donatelli     Consumer      94109.0   \n",
            "51288    RB-1979518          Ross Baird  Home Office          NaN   \n",
            "51289    MC-1810093       Mick Crebagga     Consumer          NaN   \n",
            "\n",
            "                City  ... Sub-Category  \\\n",
            "0      Oklahoma City  ...       Phones   \n",
            "1         Wollongong  ...       Chairs   \n",
            "2           Brisbane  ...       Phones   \n",
            "3             Berlin  ...       Phones   \n",
            "4              Dakar  ...      Copiers   \n",
            "...              ...  ...          ...   \n",
            "51285           Kure  ...    Fasteners   \n",
            "51286    Chattanooga  ...  Furnishings   \n",
            "51287  San Francisco  ...          Art   \n",
            "51288       Valinhos  ...      Binders   \n",
            "51289       Tipitapa  ...        Paper   \n",
            "\n",
            "                                        Product Name    Sales Quantity  \\\n",
            "0                                   Samsung Convoy 3   221.98      2.0   \n",
            "1          Novimex Executive Leather Armchair, Black  3709.40      9.0   \n",
            "2                  Nokia Smart Phone, with Caller ID  5175.17      9.0   \n",
            "3                     Motorola Smart Phone, Cordless  2892.51      5.0   \n",
            "4                     Sharp Wireless Fax, High-Speed  2832.96      8.0   \n",
            "...                                              ...      ...      ...   \n",
            "51285                  Advantus Thumb Tacks, 12 Pack    65.10      5.0   \n",
            "51286  Eldon Image Series Desk Accessories, Burgundy    16.72      5.0   \n",
            "51287                                     Newell 341     8.56      2.0   \n",
            "51288                        Acco Index Tab, Economy    13.44      2.0   \n",
            "51289        Eaton Computer Printout Paper, 8.5 x 11    61.38      3.0   \n",
            "\n",
            "      Discount  Profit Shipping Cost Order Priority  Returned  Region  \n",
            "0          0.0   62.15         40.77           High      None    None  \n",
            "1          0.1 -288.77        923.63       Critical      None    None  \n",
            "2          0.1  919.97        915.49         Medium      None    None  \n",
            "3          0.1  -96.54        910.16         Medium      None    None  \n",
            "4          0.0  311.52        903.04       Critical      None    None  \n",
            "...        ...     ...           ...            ...       ...     ...  \n",
            "51285      0.0    4.50          1.01         Medium      None    None  \n",
            "51286      0.2    3.34          1.93           High      None    None  \n",
            "51287      0.0    2.48          1.58           High      None    None  \n",
            "51288      0.0    2.40          1.00         Medium      None    None  \n",
            "51289      0.0    1.80          1.00           High      None    None  \n",
            "\n",
            "[51290 rows x 26 columns]\n"
          ]
        }
      ]
    },
    {
      "cell_type": "code",
      "source": [
        "import matplotlib.pyplot as plt\n",
        "import seaborn as sns\n",
        "\n",
        "# Assuming result_df has 'Segment', 'Sales', and 'Profit' columns\n",
        "grouped_df = result_df.groupby('Segment').agg({'Sales': 'sum', 'Profit': 'sum'}).reset_index()\n",
        "\n",
        "# Reshape the data for plotting using melt, so Sales and Profit are two distinct values\n",
        "melted_df = pd.melt(grouped_df, id_vars='Segment', value_vars=['Sales', 'Profit'], var_name='Metric', value_name='Amount')\n",
        "\n",
        "# Plot side-by-side bar chart using seaborn with 'hue' for Sales and Profit\n",
        "plt.figure(figsize=(8, 6), dpi=80)\n",
        "sns.barplot(x='Segment', y='Amount', hue='Metric', data=melted_df)\n",
        "\n",
        "# Add title and labels\n",
        "plt.title('Sales and Profit by Segment')\n",
        "plt.xlabel('Segment')\n",
        "plt.ylabel('Amount')\n",
        "\n",
        "# Rotate x-axis labels if necessary\n",
        "plt.xticks(rotation=45)\n",
        "\n",
        "# Display the plot\n",
        "plt.tight_layout()\n",
        "plt.show()\n"
      ],
      "metadata": {
        "colab": {
          "base_uri": "https://localhost:8080/",
          "height": 577
        },
        "id": "oZYgwrg8C2JD",
        "outputId": "e1420f4f-ae0e-4b62-e4ec-61c8f1482409"
      },
      "execution_count": null,
      "outputs": [
        {
          "output_type": "stream",
          "name": "stderr",
          "text": [
            "/usr/local/lib/python3.10/dist-packages/seaborn/_base.py:949: FutureWarning: When grouping with a length-1 list-like, you will need to pass a length-1 tuple to get_group in a future version of pandas. Pass `(name,)` instead of `name` to silence this warning.\n",
            "  data_subset = grouped_data.get_group(pd_key)\n",
            "/usr/local/lib/python3.10/dist-packages/seaborn/_base.py:949: FutureWarning: When grouping with a length-1 list-like, you will need to pass a length-1 tuple to get_group in a future version of pandas. Pass `(name,)` instead of `name` to silence this warning.\n",
            "  data_subset = grouped_data.get_group(pd_key)\n"
          ]
        },
        {
          "output_type": "display_data",
          "data": {
            "text/plain": [
              "<Figure size 640x480 with 1 Axes>"
            ],
            "image/png": "[encoded data removed]"
          },
          "metadata": {}
        }
      ]
    }
  ]
}